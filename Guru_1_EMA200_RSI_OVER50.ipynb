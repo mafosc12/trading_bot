{
 "cells": [
  {
   "cell_type": "code",
   "execution_count": 110,
   "metadata": {},
   "outputs": [],
   "source": [
    "\n",
    "#for a buy we want the low of the mid candle to be above the EMA 200, the RSI to be above 50, and the candle should be green and engulfing the prior candle\n"
   ]
  },
  {
   "cell_type": "code",
   "execution_count": 111,
   "metadata": {},
   "outputs": [],
   "source": [
    "import sys\n",
    "sys.path.append(\"../\")\n"
   ]
  },
  {
   "cell_type": "code",
   "execution_count": 112,
   "metadata": {},
   "outputs": [],
   "source": [
    "import pandas as pd\n",
    "import datetime as dt\n",
    "import plotly.graph_objects as go\n",
    "from technicals.indicators import RSI\n",
    "from technicals.patterns import apply_patterns\n",
    "from exploration.plotting import CandlePlot"
   ]
  },
  {
   "cell_type": "code",
   "execution_count": 113,
   "metadata": {},
   "outputs": [],
   "source": [
    "df_raw = pd.read_pickle(\"../data/GBP_JPY_H1.pkl\")"
   ]
  },
  {
   "cell_type": "code",
   "execution_count": 114,
   "metadata": {},
   "outputs": [],
   "source": [
    "df_an = df_raw.copy()\n",
    "df_an.reset_index(drop=True, inplace=True) #remember to always do this before calcing stuff if you are taking from the end, as our RSI code cares about indices and is expecting them to start from 1"
   ]
  },
  {
   "cell_type": "code",
   "execution_count": 115,
   "metadata": {},
   "outputs": [],
   "source": [
    "df_an =RSI(df_an)"
   ]
  },
  {
   "cell_type": "code",
   "execution_count": 116,
   "metadata": {},
   "outputs": [],
   "source": [
    "df_an = apply_patterns(df_an)"
   ]
  },
  {
   "cell_type": "code",
   "execution_count": 117,
   "metadata": {},
   "outputs": [],
   "source": [
    "df_an['EMA_200'] = df_an.mid_c.ewm(span=200, min_periods=200).mean() #finding the 200 period exponential moving average"
   ]
  },
  {
   "cell_type": "code",
   "execution_count": 118,
   "metadata": {},
   "outputs": [],
   "source": [
    "our_cols = ['time', 'mid_o', 'mid_l','mid_h', 'mid_c', 'ask_c', 'bid_c','ENGULFING','direction','EMA_200', 'RSI_14']"
   ]
  },
  {
   "cell_type": "code",
   "execution_count": 119,
   "metadata": {},
   "outputs": [],
   "source": [
    "df_slim = df_an[our_cols].copy()\n",
    "df_slim.dropna(inplace=True) #as first 14 cant have an RSI as its a 14 average one so get rid of these\n",
    "df_an.reset_index(drop=True, inplace=True)"
   ]
  },
  {
   "cell_type": "code",
   "execution_count": 120,
   "metadata": {},
   "outputs": [],
   "source": [
    "BUY = 1\n",
    "SELL = -1\n",
    "NONE = 0\n",
    "RSI_LIMIT = 50.0\n",
    "\n",
    "def apply_signal(row):   #coding in whether any of the candles fit the stratergy\n",
    "    if row.ENGULFING == True:\n",
    "        if row.direction == BUY and row.mid_l > row.EMA_200:\n",
    "            if row.RSI_14 > RSI_LIMIT:\n",
    "                return BUY\n",
    "        if row.direction == SELL and row.mid_h < row.EMA_200:\n",
    "            if row.RSI_14 < RSI_LIMIT:\n",
    "                return SELL\n",
    "    return NONE"
   ]
  },
  {
   "cell_type": "code",
   "execution_count": 121,
   "metadata": {},
   "outputs": [],
   "source": [
    "df_slim['SIGNAL'] = df_slim.apply(apply_signal, axis=1)"
   ]
  },
  {
   "cell_type": "code",
   "execution_count": 122,
   "metadata": {},
   "outputs": [
    {
     "data": {
      "text/plain": [
       "SIGNAL\n",
       " 0    41762\n",
       " 1     2233\n",
       "-1     1932\n",
       "Name: count, dtype: int64"
      ]
     },
     "execution_count": 122,
     "metadata": {},
     "output_type": "execute_result"
    }
   ],
   "source": [
    "df_slim['SIGNAL'].value_counts()"
   ]
  },
  {
   "cell_type": "code",
   "execution_count": 123,
   "metadata": {},
   "outputs": [],
   "source": [
    "LOSS_FACTOR = -1.0\n",
    "PROFIT_FACTOR = 1.5\n",
    "\n",
    "def apply_take_profit(row):\n",
    "    if row.SIGNAL != NONE:\n",
    "        return (row.mid_c-row.mid_o)*PROFIT_FACTOR + row.mid_c\n",
    "    else:\n",
    "        return 0.0\n",
    "\n",
    "def apply_stop_loss(row):\n",
    "    if row.SIGNAL != NONE:\n",
    "        return row.mid_o\n",
    "    else:\n",
    "        return 0.0"
   ]
  },
  {
   "cell_type": "code",
   "execution_count": 124,
   "metadata": {},
   "outputs": [],
   "source": [
    "df_slim['TP'] = df_slim.apply(apply_take_profit, axis=1)\n",
    "df_slim['SL'] = df_slim.apply(apply_stop_loss, axis=1)"
   ]
  },
  {
   "cell_type": "code",
   "execution_count": 125,
   "metadata": {},
   "outputs": [
    {
     "data": {
      "application/vnd.plotly.v1+json": {
       "config": {
        "plotlyServerURL": "https://plot.ly"
       },
       "data": [
        {
         "close": [
          169.393,
          169.925,
          170.124,
          169.624,
          169.462,
          169.164,
          169.196,
          169.64,
          169.567,
          169.35,
          169.918,
          170.06,
          170.23,
          170.382,
          170.191,
          170.148,
          170.166,
          170.336,
          170.524,
          170.254,
          170.097,
          169.971,
          169.786,
          169.652,
          169.746,
          169.552,
          169.21,
          168.504,
          168.776,
          168.3,
          168.47,
          168.248,
          167.709,
          167.846,
          167.24,
          166.852,
          166.703,
          166.528,
          166.886,
          166.698
         ],
         "decreasing": {
          "fillcolor": "#CC2E3C",
          "line": {
           "color": "#FF3A4C"
          }
         },
         "high": [
          169.52,
          169.952,
          170.344,
          170.174,
          169.997,
          169.496,
          169.38,
          169.902,
          169.875,
          169.96,
          170.239,
          170.216,
          170.34,
          170.527,
          170.434,
          170.294,
          170.214,
          170.358,
          170.58,
          170.574,
          170.368,
          170.158,
          170.064,
          169.8,
          169.766,
          169.92,
          169.55,
          169.492,
          168.794,
          168.819,
          168.478,
          168.57,
          168.321,
          168.221,
          168.05,
          167.279,
          166.926,
          166.804,
          166.93,
          166.94
         ],
         "increasing": {
          "fillcolor": "#24A06B",
          "line": {
           "color": "#2EC886"
          }
         },
         "line": {
          "width": 1
         },
         "low": [
          169.052,
          169.352,
          169.842,
          169.599,
          169.377,
          169.041,
          169.012,
          169.172,
          169.39,
          169.254,
          169.279,
          169.643,
          170.03,
          170.207,
          170.174,
          170.123,
          170.008,
          170.137,
          170.307,
          170.233,
          169.862,
          169.93,
          169.763,
          169.406,
          169.52,
          169.441,
          169,
          168.408,
          168.194,
          168.24,
          168.072,
          167.989,
          167.213,
          167.556,
          167.218,
          166.799,
          166.258,
          166.432,
          166.52,
          166.647
         ],
         "opacity": 1,
         "open": [
          169.075,
          169.4,
          169.928,
          170.124,
          169.622,
          169.464,
          169.164,
          169.189,
          169.638,
          169.567,
          169.35,
          169.918,
          170.06,
          170.226,
          170.384,
          170.194,
          170.153,
          170.174,
          170.344,
          170.522,
          170.26,
          170.096,
          169.972,
          169.788,
          169.652,
          169.748,
          169.55,
          169.212,
          168.504,
          168.777,
          168.3,
          168.47,
          168.248,
          167.708,
          167.822,
          167.246,
          166.852,
          166.697,
          166.534,
          166.886
         ],
         "type": "candlestick",
         "x": [
          "s16-01-14 05:00",
          "s16-01-14 06:00",
          "s16-01-14 07:00",
          "s16-01-14 08:00",
          "s16-01-14 09:00",
          "s16-01-14 10:00",
          "s16-01-14 11:00",
          "s16-01-14 12:00",
          "s16-01-14 13:00",
          "s16-01-14 14:00",
          "s16-01-14 15:00",
          "s16-01-14 16:00",
          "s16-01-14 17:00",
          "s16-01-14 18:00",
          "s16-01-14 19:00",
          "s16-01-14 20:00",
          "s16-01-14 21:00",
          "s16-01-14 22:00",
          "s16-01-14 23:00",
          "s16-01-15 00:00",
          "s16-01-15 01:00",
          "s16-01-15 02:00",
          "s16-01-15 03:00",
          "s16-01-15 04:00",
          "s16-01-15 05:00",
          "s16-01-15 06:00",
          "s16-01-15 07:00",
          "s16-01-15 08:00",
          "s16-01-15 09:00",
          "s16-01-15 10:00",
          "s16-01-15 11:00",
          "s16-01-15 12:00",
          "s16-01-15 13:00",
          "s16-01-15 14:00",
          "s16-01-15 15:00",
          "s16-01-15 16:00",
          "s16-01-15 17:00",
          "s16-01-15 18:00",
          "s16-01-15 19:00",
          "s16-01-15 20:00"
         ]
        },
        {
         "marker": {
          "color": "#0000FF",
          "size": 12
         },
         "mode": "markers",
         "type": "scatter",
         "x": [
          "s16-01-14 08:00",
          "s16-01-15 06:00",
          "s16-01-15 10:00",
          "s16-01-15 12:00",
          "s16-01-15 15:00"
         ],
         "y": [
          169.624,
          169.552,
          168.3,
          168.248,
          167.24
         ]
        },
        {
         "marker": {
          "color": "#00FF00",
          "size": 12
         },
         "mode": "markers",
         "type": "scatter",
         "x": [
          "s16-01-14 08:00",
          "s16-01-15 06:00",
          "s16-01-15 10:00",
          "s16-01-15 12:00",
          "s16-01-15 15:00"
         ],
         "y": [
          168.874,
          169.25799999999998,
          167.58450000000005,
          167.91499999999996,
          166.36700000000002
         ]
        },
        {
         "marker": {
          "color": "#FF0000",
          "size": 12
         },
         "mode": "markers",
         "type": "scatter",
         "x": [
          "s16-01-14 08:00",
          "s16-01-15 06:00",
          "s16-01-15 10:00",
          "s16-01-15 12:00",
          "s16-01-15 15:00"
         ],
         "y": [
          170.124,
          169.748,
          168.777,
          168.47,
          167.822
         ]
        },
        {
         "line": {
          "shape": "spline",
          "width": 2
         },
         "name": "EMA_200",
         "type": "scatter",
         "x": [
          "s16-01-14 05:00",
          "s16-01-14 06:00",
          "s16-01-14 07:00",
          "s16-01-14 08:00",
          "s16-01-14 09:00",
          "s16-01-14 10:00",
          "s16-01-14 11:00",
          "s16-01-14 12:00",
          "s16-01-14 13:00",
          "s16-01-14 14:00",
          "s16-01-14 15:00",
          "s16-01-14 16:00",
          "s16-01-14 17:00",
          "s16-01-14 18:00",
          "s16-01-14 19:00",
          "s16-01-14 20:00",
          "s16-01-14 21:00",
          "s16-01-14 22:00",
          "s16-01-14 23:00",
          "s16-01-15 00:00",
          "s16-01-15 01:00",
          "s16-01-15 02:00",
          "s16-01-15 03:00",
          "s16-01-15 04:00",
          "s16-01-15 05:00",
          "s16-01-15 06:00",
          "s16-01-15 07:00",
          "s16-01-15 08:00",
          "s16-01-15 09:00",
          "s16-01-15 10:00",
          "s16-01-15 11:00",
          "s16-01-15 12:00",
          "s16-01-15 13:00",
          "s16-01-15 14:00",
          "s16-01-15 15:00",
          "s16-01-15 16:00",
          "s16-01-15 17:00",
          "s16-01-15 18:00",
          "s16-01-15 19:00",
          "s16-01-15 20:00"
         ],
         "xaxis": "x",
         "y": [
          171.43410878079237,
          171.41676955159872,
          171.40193882979526,
          171.38157321244503,
          171.3596182552218,
          171.33454334661192,
          171.3101561118049,
          171.29113785022383,
          171.27153306179977,
          171.24971472985698,
          171.23461478393767,
          171.2213146179161,
          171.21010534768155,
          171.20075425460493,
          171.18936723440726,
          171.17763927429922,
          171.16626103914126,
          171.15693492052662,
          171.14983442423315,
          171.139797352989,
          171.1281283176594,
          171.11519593884017,
          171.10035867658414,
          171.08421082679322,
          171.06930888763713,
          171.05243256924487,
          171.0319640468573,
          171.0039121254065,
          170.9792180830047,
          170.94955542111094,
          170.92213404510875,
          170.89259357895608,
          170.85746376485932,
          170.8242693373664,
          170.7848033772551,
          170.74154563112492,
          170.69717135039122,
          170.65140927035847,
          170.6101213680329,
          170.56726824758192
         ],
         "yaxis": "y"
        },
        {
         "line": {
          "shape": "spline",
          "width": 2
         },
         "name": "RSI_14",
         "type": "scatter",
         "x": [
          "s16-01-14 05:00",
          "s16-01-14 06:00",
          "s16-01-14 07:00",
          "s16-01-14 08:00",
          "s16-01-14 09:00",
          "s16-01-14 10:00",
          "s16-01-14 11:00",
          "s16-01-14 12:00",
          "s16-01-14 13:00",
          "s16-01-14 14:00",
          "s16-01-14 15:00",
          "s16-01-14 16:00",
          "s16-01-14 17:00",
          "s16-01-14 18:00",
          "s16-01-14 19:00",
          "s16-01-14 20:00",
          "s16-01-14 21:00",
          "s16-01-14 22:00",
          "s16-01-14 23:00",
          "s16-01-15 00:00",
          "s16-01-15 01:00",
          "s16-01-15 02:00",
          "s16-01-15 03:00",
          "s16-01-15 04:00",
          "s16-01-15 05:00",
          "s16-01-15 06:00",
          "s16-01-15 07:00",
          "s16-01-15 08:00",
          "s16-01-15 09:00",
          "s16-01-15 10:00",
          "s16-01-15 11:00",
          "s16-01-15 12:00",
          "s16-01-15 13:00",
          "s16-01-15 14:00",
          "s16-01-15 15:00",
          "s16-01-15 16:00",
          "s16-01-15 17:00",
          "s16-01-15 18:00",
          "s16-01-15 19:00",
          "s16-01-15 20:00"
         ],
         "xaxis": "x",
         "y": [
          40.1453587157376,
          50.5567910103986,
          53.79446263998247,
          45.69753060911388,
          43.417316687461586,
          39.511659968320096,
          40.134428443938795,
          48.11628142696239,
          47.006570826549606,
          43.774641652338076,
          52.90259705982087,
          54.874945796856224,
          57.18654372326195,
          59.19908065374948,
          55.6585380346135,
          54.863012206276665,
          55.151983341720076,
          57.8937444566872,
          60.751364878963656,
          54.98030401835309,
          51.89333836937494,
          49.49167366008395,
          46.116884880394885,
          43.78779990359246,
          45.85366599296672,
          42.39105010055009,
          37.07573426812035,
          28.99368352724383,
          34.88312672013477,
          30.167501061547114,
          33.618898882974065,
          31.434025966491888,
          26.86835825135877,
          29.664724003109484,
          25.093908409767224,
          22.68391836437368,
          21.817378143804035,
          20.811797942309738,
          28.111471067103082,
          26.718584095374865
         ],
         "yaxis": "y2"
        }
       ],
       "layout": {
        "font": {
         "color": "#e1e1e1",
         "size": 8
        },
        "height": 400,
        "margin": {
         "b": 10,
         "l": 10,
         "r": 10,
         "t": 10
        },
        "paper_bgcolor": "#2c303c",
        "plot_bgcolor": "#2c303c",
        "template": {
         "data": {
          "bar": [
           {
            "error_x": {
             "color": "#2a3f5f"
            },
            "error_y": {
             "color": "#2a3f5f"
            },
            "marker": {
             "line": {
              "color": "#E5ECF6",
              "width": 0.5
             },
             "pattern": {
              "fillmode": "overlay",
              "size": 10,
              "solidity": 0.2
             }
            },
            "type": "bar"
           }
          ],
          "barpolar": [
           {
            "marker": {
             "line": {
              "color": "#E5ECF6",
              "width": 0.5
             },
             "pattern": {
              "fillmode": "overlay",
              "size": 10,
              "solidity": 0.2
             }
            },
            "type": "barpolar"
           }
          ],
          "carpet": [
           {
            "aaxis": {
             "endlinecolor": "#2a3f5f",
             "gridcolor": "white",
             "linecolor": "white",
             "minorgridcolor": "white",
             "startlinecolor": "#2a3f5f"
            },
            "baxis": {
             "endlinecolor": "#2a3f5f",
             "gridcolor": "white",
             "linecolor": "white",
             "minorgridcolor": "white",
             "startlinecolor": "#2a3f5f"
            },
            "type": "carpet"
           }
          ],
          "choropleth": [
           {
            "colorbar": {
             "outlinewidth": 0,
             "ticks": ""
            },
            "type": "choropleth"
           }
          ],
          "contour": [
           {
            "colorbar": {
             "outlinewidth": 0,
             "ticks": ""
            },
            "colorscale": [
             [
              0,
              "#0d0887"
             ],
             [
              0.1111111111111111,
              "#46039f"
             ],
             [
              0.2222222222222222,
              "#7201a8"
             ],
             [
              0.3333333333333333,
              "#9c179e"
             ],
             [
              0.4444444444444444,
              "#bd3786"
             ],
             [
              0.5555555555555556,
              "#d8576b"
             ],
             [
              0.6666666666666666,
              "#ed7953"
             ],
             [
              0.7777777777777778,
              "#fb9f3a"
             ],
             [
              0.8888888888888888,
              "#fdca26"
             ],
             [
              1,
              "#f0f921"
             ]
            ],
            "type": "contour"
           }
          ],
          "contourcarpet": [
           {
            "colorbar": {
             "outlinewidth": 0,
             "ticks": ""
            },
            "type": "contourcarpet"
           }
          ],
          "heatmap": [
           {
            "colorbar": {
             "outlinewidth": 0,
             "ticks": ""
            },
            "colorscale": [
             [
              0,
              "#0d0887"
             ],
             [
              0.1111111111111111,
              "#46039f"
             ],
             [
              0.2222222222222222,
              "#7201a8"
             ],
             [
              0.3333333333333333,
              "#9c179e"
             ],
             [
              0.4444444444444444,
              "#bd3786"
             ],
             [
              0.5555555555555556,
              "#d8576b"
             ],
             [
              0.6666666666666666,
              "#ed7953"
             ],
             [
              0.7777777777777778,
              "#fb9f3a"
             ],
             [
              0.8888888888888888,
              "#fdca26"
             ],
             [
              1,
              "#f0f921"
             ]
            ],
            "type": "heatmap"
           }
          ],
          "heatmapgl": [
           {
            "colorbar": {
             "outlinewidth": 0,
             "ticks": ""
            },
            "colorscale": [
             [
              0,
              "#0d0887"
             ],
             [
              0.1111111111111111,
              "#46039f"
             ],
             [
              0.2222222222222222,
              "#7201a8"
             ],
             [
              0.3333333333333333,
              "#9c179e"
             ],
             [
              0.4444444444444444,
              "#bd3786"
             ],
             [
              0.5555555555555556,
              "#d8576b"
             ],
             [
              0.6666666666666666,
              "#ed7953"
             ],
             [
              0.7777777777777778,
              "#fb9f3a"
             ],
             [
              0.8888888888888888,
              "#fdca26"
             ],
             [
              1,
              "#f0f921"
             ]
            ],
            "type": "heatmapgl"
           }
          ],
          "histogram": [
           {
            "marker": {
             "pattern": {
              "fillmode": "overlay",
              "size": 10,
              "solidity": 0.2
             }
            },
            "type": "histogram"
           }
          ],
          "histogram2d": [
           {
            "colorbar": {
             "outlinewidth": 0,
             "ticks": ""
            },
            "colorscale": [
             [
              0,
              "#0d0887"
             ],
             [
              0.1111111111111111,
              "#46039f"
             ],
             [
              0.2222222222222222,
              "#7201a8"
             ],
             [
              0.3333333333333333,
              "#9c179e"
             ],
             [
              0.4444444444444444,
              "#bd3786"
             ],
             [
              0.5555555555555556,
              "#d8576b"
             ],
             [
              0.6666666666666666,
              "#ed7953"
             ],
             [
              0.7777777777777778,
              "#fb9f3a"
             ],
             [
              0.8888888888888888,
              "#fdca26"
             ],
             [
              1,
              "#f0f921"
             ]
            ],
            "type": "histogram2d"
           }
          ],
          "histogram2dcontour": [
           {
            "colorbar": {
             "outlinewidth": 0,
             "ticks": ""
            },
            "colorscale": [
             [
              0,
              "#0d0887"
             ],
             [
              0.1111111111111111,
              "#46039f"
             ],
             [
              0.2222222222222222,
              "#7201a8"
             ],
             [
              0.3333333333333333,
              "#9c179e"
             ],
             [
              0.4444444444444444,
              "#bd3786"
             ],
             [
              0.5555555555555556,
              "#d8576b"
             ],
             [
              0.6666666666666666,
              "#ed7953"
             ],
             [
              0.7777777777777778,
              "#fb9f3a"
             ],
             [
              0.8888888888888888,
              "#fdca26"
             ],
             [
              1,
              "#f0f921"
             ]
            ],
            "type": "histogram2dcontour"
           }
          ],
          "mesh3d": [
           {
            "colorbar": {
             "outlinewidth": 0,
             "ticks": ""
            },
            "type": "mesh3d"
           }
          ],
          "parcoords": [
           {
            "line": {
             "colorbar": {
              "outlinewidth": 0,
              "ticks": ""
             }
            },
            "type": "parcoords"
           }
          ],
          "pie": [
           {
            "automargin": true,
            "type": "pie"
           }
          ],
          "scatter": [
           {
            "fillpattern": {
             "fillmode": "overlay",
             "size": 10,
             "solidity": 0.2
            },
            "type": "scatter"
           }
          ],
          "scatter3d": [
           {
            "line": {
             "colorbar": {
              "outlinewidth": 0,
              "ticks": ""
             }
            },
            "marker": {
             "colorbar": {
              "outlinewidth": 0,
              "ticks": ""
             }
            },
            "type": "scatter3d"
           }
          ],
          "scattercarpet": [
           {
            "marker": {
             "colorbar": {
              "outlinewidth": 0,
              "ticks": ""
             }
            },
            "type": "scattercarpet"
           }
          ],
          "scattergeo": [
           {
            "marker": {
             "colorbar": {
              "outlinewidth": 0,
              "ticks": ""
             }
            },
            "type": "scattergeo"
           }
          ],
          "scattergl": [
           {
            "marker": {
             "colorbar": {
              "outlinewidth": 0,
              "ticks": ""
             }
            },
            "type": "scattergl"
           }
          ],
          "scattermapbox": [
           {
            "marker": {
             "colorbar": {
              "outlinewidth": 0,
              "ticks": ""
             }
            },
            "type": "scattermapbox"
           }
          ],
          "scatterpolar": [
           {
            "marker": {
             "colorbar": {
              "outlinewidth": 0,
              "ticks": ""
             }
            },
            "type": "scatterpolar"
           }
          ],
          "scatterpolargl": [
           {
            "marker": {
             "colorbar": {
              "outlinewidth": 0,
              "ticks": ""
             }
            },
            "type": "scatterpolargl"
           }
          ],
          "scatterternary": [
           {
            "marker": {
             "colorbar": {
              "outlinewidth": 0,
              "ticks": ""
             }
            },
            "type": "scatterternary"
           }
          ],
          "surface": [
           {
            "colorbar": {
             "outlinewidth": 0,
             "ticks": ""
            },
            "colorscale": [
             [
              0,
              "#0d0887"
             ],
             [
              0.1111111111111111,
              "#46039f"
             ],
             [
              0.2222222222222222,
              "#7201a8"
             ],
             [
              0.3333333333333333,
              "#9c179e"
             ],
             [
              0.4444444444444444,
              "#bd3786"
             ],
             [
              0.5555555555555556,
              "#d8576b"
             ],
             [
              0.6666666666666666,
              "#ed7953"
             ],
             [
              0.7777777777777778,
              "#fb9f3a"
             ],
             [
              0.8888888888888888,
              "#fdca26"
             ],
             [
              1,
              "#f0f921"
             ]
            ],
            "type": "surface"
           }
          ],
          "table": [
           {
            "cells": {
             "fill": {
              "color": "#EBF0F8"
             },
             "line": {
              "color": "white"
             }
            },
            "header": {
             "fill": {
              "color": "#C8D4E3"
             },
             "line": {
              "color": "white"
             }
            },
            "type": "table"
           }
          ]
         },
         "layout": {
          "annotationdefaults": {
           "arrowcolor": "#2a3f5f",
           "arrowhead": 0,
           "arrowwidth": 1
          },
          "autotypenumbers": "strict",
          "coloraxis": {
           "colorbar": {
            "outlinewidth": 0,
            "ticks": ""
           }
          },
          "colorscale": {
           "diverging": [
            [
             0,
             "#8e0152"
            ],
            [
             0.1,
             "#c51b7d"
            ],
            [
             0.2,
             "#de77ae"
            ],
            [
             0.3,
             "#f1b6da"
            ],
            [
             0.4,
             "#fde0ef"
            ],
            [
             0.5,
             "#f7f7f7"
            ],
            [
             0.6,
             "#e6f5d0"
            ],
            [
             0.7,
             "#b8e186"
            ],
            [
             0.8,
             "#7fbc41"
            ],
            [
             0.9,
             "#4d9221"
            ],
            [
             1,
             "#276419"
            ]
           ],
           "sequential": [
            [
             0,
             "#0d0887"
            ],
            [
             0.1111111111111111,
             "#46039f"
            ],
            [
             0.2222222222222222,
             "#7201a8"
            ],
            [
             0.3333333333333333,
             "#9c179e"
            ],
            [
             0.4444444444444444,
             "#bd3786"
            ],
            [
             0.5555555555555556,
             "#d8576b"
            ],
            [
             0.6666666666666666,
             "#ed7953"
            ],
            [
             0.7777777777777778,
             "#fb9f3a"
            ],
            [
             0.8888888888888888,
             "#fdca26"
            ],
            [
             1,
             "#f0f921"
            ]
           ],
           "sequentialminus": [
            [
             0,
             "#0d0887"
            ],
            [
             0.1111111111111111,
             "#46039f"
            ],
            [
             0.2222222222222222,
             "#7201a8"
            ],
            [
             0.3333333333333333,
             "#9c179e"
            ],
            [
             0.4444444444444444,
             "#bd3786"
            ],
            [
             0.5555555555555556,
             "#d8576b"
            ],
            [
             0.6666666666666666,
             "#ed7953"
            ],
            [
             0.7777777777777778,
             "#fb9f3a"
            ],
            [
             0.8888888888888888,
             "#fdca26"
            ],
            [
             1,
             "#f0f921"
            ]
           ]
          },
          "colorway": [
           "#636efa",
           "#EF553B",
           "#00cc96",
           "#ab63fa",
           "#FFA15A",
           "#19d3f3",
           "#FF6692",
           "#B6E880",
           "#FF97FF",
           "#FECB52"
          ],
          "font": {
           "color": "#2a3f5f"
          },
          "geo": {
           "bgcolor": "white",
           "lakecolor": "white",
           "landcolor": "#E5ECF6",
           "showlakes": true,
           "showland": true,
           "subunitcolor": "white"
          },
          "hoverlabel": {
           "align": "left"
          },
          "hovermode": "closest",
          "mapbox": {
           "style": "light"
          },
          "paper_bgcolor": "white",
          "plot_bgcolor": "#E5ECF6",
          "polar": {
           "angularaxis": {
            "gridcolor": "white",
            "linecolor": "white",
            "ticks": ""
           },
           "bgcolor": "#E5ECF6",
           "radialaxis": {
            "gridcolor": "white",
            "linecolor": "white",
            "ticks": ""
           }
          },
          "scene": {
           "xaxis": {
            "backgroundcolor": "#E5ECF6",
            "gridcolor": "white",
            "gridwidth": 2,
            "linecolor": "white",
            "showbackground": true,
            "ticks": "",
            "zerolinecolor": "white"
           },
           "yaxis": {
            "backgroundcolor": "#E5ECF6",
            "gridcolor": "white",
            "gridwidth": 2,
            "linecolor": "white",
            "showbackground": true,
            "ticks": "",
            "zerolinecolor": "white"
           },
           "zaxis": {
            "backgroundcolor": "#E5ECF6",
            "gridcolor": "white",
            "gridwidth": 2,
            "linecolor": "white",
            "showbackground": true,
            "ticks": "",
            "zerolinecolor": "white"
           }
          },
          "shapedefaults": {
           "line": {
            "color": "#2a3f5f"
           }
          },
          "ternary": {
           "aaxis": {
            "gridcolor": "white",
            "linecolor": "white",
            "ticks": ""
           },
           "baxis": {
            "gridcolor": "white",
            "linecolor": "white",
            "ticks": ""
           },
           "bgcolor": "#E5ECF6",
           "caxis": {
            "gridcolor": "white",
            "linecolor": "white",
            "ticks": ""
           }
          },
          "title": {
           "x": 0.05
          },
          "xaxis": {
           "automargin": true,
           "gridcolor": "white",
           "linecolor": "white",
           "ticks": "",
           "title": {
            "standoff": 15
           },
           "zerolinecolor": "white",
           "zerolinewidth": 2
          },
          "yaxis": {
           "automargin": true,
           "gridcolor": "white",
           "linecolor": "white",
           "ticks": "",
           "title": {
            "standoff": 15
           },
           "zerolinecolor": "white",
           "zerolinewidth": 2
          }
         }
        },
        "width": 900,
        "xaxis": {
         "anchor": "y",
         "domain": [
          0,
          0.94
         ],
         "gridcolor": "#1f292f",
         "nticks": 5,
         "rangeslider": {
          "visible": false
         }
        },
        "yaxis": {
         "anchor": "x",
         "domain": [
          0,
          1
         ],
         "gridcolor": "#1f292f"
        },
        "yaxis2": {
         "anchor": "x",
         "gridcolor": "#1f292f",
         "overlaying": "y",
         "side": "right"
        }
       }
      }
     },
     "metadata": {},
     "output_type": "display_data"
    }
   ],
   "source": [
    "df_plot = df_slim.iloc[0:40]  #only look at first 40 candles\n",
    "cp = CandlePlot(df_plot, candles=True)\n",
    "\n",
    "trades = cp.df_plot[df_plot.SIGNAL != NONE] #taking only our candles which are trades\n",
    "\n",
    "markers = ['mid_c', 'TP', 'SL']\n",
    "marker_colors = ['#0000FF', '#00FF00', '#FF0000']\n",
    "\n",
    "for i in range(3):\n",
    "    cp.fig.add_trace(go.Scatter(x = trades.sTime, y=trades[markers[i]], mode='markers', marker=dict(color=marker_colors[i],size=12)))\n",
    "\n",
    "cp.show_plot(line_traces=['EMA_200'], sec_traces=['RSI_14'])"
   ]
  },
  {
   "cell_type": "code",
   "execution_count": 126,
   "metadata": {},
   "outputs": [],
   "source": [
    "class Trade:\n",
    "\n",
    "    def __init__(self,row):\n",
    "        self.running = True\n",
    "        self.start_index = row.name\n",
    "        self.start_price = row.mid_c\n",
    "        self.end_price = row.mid_c\n",
    "        self.SIGNAL = row.SIGNAL\n",
    "        self.TP = row.TP\n",
    "        self.SL = row.SL\n",
    "        self.result = 0.0\n",
    "        self.end_time = row.time\n",
    "        self.start_time = row.time\n",
    "        self.duration = 0\n",
    "\n",
    "    def close_trade(self,row, result, trigger_price):\n",
    "        self.running = False\n",
    "        self.result = result\n",
    "        self.end_time = row.time\n",
    "        self.trigger_price = trigger_price\n",
    "\n",
    "    def update(self,row):\n",
    "        self.duration += 1\n",
    "        if self.SIGNAL == BUY:\n",
    "            if row.mid_h >= self.TP:  #as this is first we are being optimistic for all the cases where the candle that triggers the take profit also covers the stop loss, due to lack of granularity\n",
    "                self.close_trade(row, PROFIT_FACTOR, row.mid_h)\n",
    "            elif row.mid_l <= self.SL:\n",
    "                self.close_trade(row, LOSS_FACTOR, row.mid_l)\n",
    "\n",
    "        if self.SIGNAL == SELL:\n",
    "            if row.mid_l <= self.TP:  \n",
    "                self.close_trade(row, PROFIT_FACTOR, row.mid_l)\n",
    "            elif row.mid_h >= self.SL:\n",
    "                self.close_trade(row, LOSS_FACTOR, row.mid_h)\n",
    "\n",
    "\n"
   ]
  },
  {
   "cell_type": "code",
   "execution_count": 127,
   "metadata": {},
   "outputs": [],
   "source": [
    "open_trades = []\n",
    "closed_trades = []\n",
    "\n",
    "for index, row in df_slim.iterrows(): #iterrows changes the format of the dataframe into a table where you can get the values by doing row.mid_h where row corresponds to the row in the original dataframe you want, note it has lower performance as it makes a series for each row\n",
    "    for ot in open_trades: #itterate through each still open trade and check that if the current candle we are on leads to a stop loss or take profit, if so the trade is then closed\n",
    "        ot.update(row)\n",
    "        if ot.running == False:\n",
    "            closed_trades.append(ot)\n",
    "    open_trades = [x for x in open_trades if x.running == True] \n",
    "\n",
    "    if row.SIGNAL != NONE: #check if current row is a trade\n",
    "        open_trades.append(Trade(row))\n"
   ]
  },
  {
   "cell_type": "code",
   "execution_count": 128,
   "metadata": {},
   "outputs": [],
   "source": [
    "df_results = pd.DataFrame.from_dict([vars(x) for x in closed_trades])"
   ]
  },
  {
   "cell_type": "code",
   "execution_count": 129,
   "metadata": {},
   "outputs": [],
   "source": [
    "df_results.sort_values(by='start_index', inplace=True)"
   ]
  },
  {
   "cell_type": "code",
   "execution_count": 130,
   "metadata": {},
   "outputs": [],
   "source": [
    "df_m5 = pd.read_pickle('../data/GBP_JPY_M5.pkl')"
   ]
  },
  {
   "cell_type": "code",
   "execution_count": 131,
   "metadata": {},
   "outputs": [
    {
     "data": {
      "text/plain": [
       "Timestamp('2016-01-03 22:00:00+0000', tz='tzutc()')"
      ]
     },
     "execution_count": 131,
     "metadata": {},
     "output_type": "execute_result"
    }
   ],
   "source": [
    "df_raw.time.min()\n"
   ]
  },
  {
   "cell_type": "code",
   "execution_count": 132,
   "metadata": {},
   "outputs": [
    {
     "data": {
      "text/plain": [
       "Timestamp('2016-01-03 22:00:00+0000', tz='tzutc()')"
      ]
     },
     "execution_count": 132,
     "metadata": {},
     "output_type": "execute_result"
    }
   ],
   "source": [
    "df_m5.time.min() #checking they both have the same start time"
   ]
  },
  {
   "cell_type": "code",
   "execution_count": 133,
   "metadata": {},
   "outputs": [
    {
     "data": {
      "text/plain": [
       "Timestamp('2023-05-31 23:55:00+0000', tz='tzutc()')"
      ]
     },
     "execution_count": 133,
     "metadata": {},
     "output_type": "execute_result"
    }
   ],
   "source": [
    "df_m5.time.max()"
   ]
  },
  {
   "cell_type": "code",
   "execution_count": 134,
   "metadata": {},
   "outputs": [
    {
     "data": {
      "text/plain": [
       "Timestamp('2023-05-31 23:00:00+0000', tz='tzutc()')"
      ]
     },
     "execution_count": 134,
     "metadata": {},
     "output_type": "execute_result"
    }
   ],
   "source": [
    "df_raw.time.max() #checking if they finish on the same time"
   ]
  },
  {
   "cell_type": "code",
   "execution_count": 135,
   "metadata": {},
   "outputs": [],
   "source": [
    "from dateutil import parser"
   ]
  },
  {
   "cell_type": "code",
   "execution_count": 136,
   "metadata": {},
   "outputs": [],
   "source": [
    "time_min = parser.parse('2021-12-15T10:00:00Z') #make sure its a weekday\n",
    "time_max = parser.parse('2021-12-15T11:00:00Z')\n",
    "df_m5_s = df_m5[(df_m5.time>=time_min)&(df_m5.time<=time_max)]\n",
    "df_raw_s = df_raw[(df_raw.time>=time_min)&(df_raw.time<=time_max)]"
   ]
  },
  {
   "cell_type": "code",
   "execution_count": 137,
   "metadata": {},
   "outputs": [
    {
     "data": {
      "text/html": [
       "<div>\n",
       "<style scoped>\n",
       "    .dataframe tbody tr th:only-of-type {\n",
       "        vertical-align: middle;\n",
       "    }\n",
       "\n",
       "    .dataframe tbody tr th {\n",
       "        vertical-align: top;\n",
       "    }\n",
       "\n",
       "    .dataframe thead th {\n",
       "        text-align: right;\n",
       "    }\n",
       "</style>\n",
       "<table border=\"1\" class=\"dataframe\">\n",
       "  <thead>\n",
       "    <tr style=\"text-align: right;\">\n",
       "      <th></th>\n",
       "      <th>time</th>\n",
       "      <th>volume</th>\n",
       "      <th>mid_o</th>\n",
       "      <th>mid_h</th>\n",
       "      <th>mid_l</th>\n",
       "      <th>mid_c</th>\n",
       "      <th>bid_o</th>\n",
       "      <th>bid_h</th>\n",
       "      <th>bid_l</th>\n",
       "      <th>bid_c</th>\n",
       "      <th>ask_o</th>\n",
       "      <th>ask_h</th>\n",
       "      <th>ask_l</th>\n",
       "      <th>ask_c</th>\n",
       "    </tr>\n",
       "  </thead>\n",
       "  <tbody>\n",
       "    <tr>\n",
       "      <th>443920</th>\n",
       "      <td>2021-12-15 10:00:00+00:00</td>\n",
       "      <td>218</td>\n",
       "      <td>150.826</td>\n",
       "      <td>150.826</td>\n",
       "      <td>150.758</td>\n",
       "      <td>150.806</td>\n",
       "      <td>150.813</td>\n",
       "      <td>150.813</td>\n",
       "      <td>150.745</td>\n",
       "      <td>150.793</td>\n",
       "      <td>150.838</td>\n",
       "      <td>150.838</td>\n",
       "      <td>150.771</td>\n",
       "      <td>150.819</td>\n",
       "    </tr>\n",
       "    <tr>\n",
       "      <th>443921</th>\n",
       "      <td>2021-12-15 10:05:00+00:00</td>\n",
       "      <td>152</td>\n",
       "      <td>150.808</td>\n",
       "      <td>150.838</td>\n",
       "      <td>150.772</td>\n",
       "      <td>150.772</td>\n",
       "      <td>150.796</td>\n",
       "      <td>150.826</td>\n",
       "      <td>150.759</td>\n",
       "      <td>150.759</td>\n",
       "      <td>150.821</td>\n",
       "      <td>150.851</td>\n",
       "      <td>150.784</td>\n",
       "      <td>150.784</td>\n",
       "    </tr>\n",
       "    <tr>\n",
       "      <th>443922</th>\n",
       "      <td>2021-12-15 10:10:00+00:00</td>\n",
       "      <td>207</td>\n",
       "      <td>150.774</td>\n",
       "      <td>150.882</td>\n",
       "      <td>150.760</td>\n",
       "      <td>150.874</td>\n",
       "      <td>150.761</td>\n",
       "      <td>150.868</td>\n",
       "      <td>150.748</td>\n",
       "      <td>150.862</td>\n",
       "      <td>150.787</td>\n",
       "      <td>150.895</td>\n",
       "      <td>150.772</td>\n",
       "      <td>150.885</td>\n",
       "    </tr>\n",
       "    <tr>\n",
       "      <th>443923</th>\n",
       "      <td>2021-12-15 10:15:00+00:00</td>\n",
       "      <td>143</td>\n",
       "      <td>150.876</td>\n",
       "      <td>150.930</td>\n",
       "      <td>150.863</td>\n",
       "      <td>150.890</td>\n",
       "      <td>150.863</td>\n",
       "      <td>150.916</td>\n",
       "      <td>150.850</td>\n",
       "      <td>150.877</td>\n",
       "      <td>150.888</td>\n",
       "      <td>150.943</td>\n",
       "      <td>150.876</td>\n",
       "      <td>150.902</td>\n",
       "    </tr>\n",
       "    <tr>\n",
       "      <th>443924</th>\n",
       "      <td>2021-12-15 10:20:00+00:00</td>\n",
       "      <td>197</td>\n",
       "      <td>150.892</td>\n",
       "      <td>150.898</td>\n",
       "      <td>150.814</td>\n",
       "      <td>150.868</td>\n",
       "      <td>150.879</td>\n",
       "      <td>150.886</td>\n",
       "      <td>150.801</td>\n",
       "      <td>150.856</td>\n",
       "      <td>150.904</td>\n",
       "      <td>150.911</td>\n",
       "      <td>150.826</td>\n",
       "      <td>150.881</td>\n",
       "    </tr>\n",
       "    <tr>\n",
       "      <th>443925</th>\n",
       "      <td>2021-12-15 10:25:00+00:00</td>\n",
       "      <td>159</td>\n",
       "      <td>150.866</td>\n",
       "      <td>150.896</td>\n",
       "      <td>150.838</td>\n",
       "      <td>150.868</td>\n",
       "      <td>150.855</td>\n",
       "      <td>150.883</td>\n",
       "      <td>150.825</td>\n",
       "      <td>150.855</td>\n",
       "      <td>150.878</td>\n",
       "      <td>150.909</td>\n",
       "      <td>150.850</td>\n",
       "      <td>150.881</td>\n",
       "    </tr>\n",
       "    <tr>\n",
       "      <th>443926</th>\n",
       "      <td>2021-12-15 10:30:00+00:00</td>\n",
       "      <td>106</td>\n",
       "      <td>150.870</td>\n",
       "      <td>150.912</td>\n",
       "      <td>150.846</td>\n",
       "      <td>150.890</td>\n",
       "      <td>150.857</td>\n",
       "      <td>150.900</td>\n",
       "      <td>150.834</td>\n",
       "      <td>150.879</td>\n",
       "      <td>150.884</td>\n",
       "      <td>150.924</td>\n",
       "      <td>150.859</td>\n",
       "      <td>150.902</td>\n",
       "    </tr>\n",
       "    <tr>\n",
       "      <th>443927</th>\n",
       "      <td>2021-12-15 10:35:00+00:00</td>\n",
       "      <td>80</td>\n",
       "      <td>150.887</td>\n",
       "      <td>150.891</td>\n",
       "      <td>150.834</td>\n",
       "      <td>150.834</td>\n",
       "      <td>150.874</td>\n",
       "      <td>150.877</td>\n",
       "      <td>150.822</td>\n",
       "      <td>150.822</td>\n",
       "      <td>150.900</td>\n",
       "      <td>150.905</td>\n",
       "      <td>150.846</td>\n",
       "      <td>150.846</td>\n",
       "    </tr>\n",
       "    <tr>\n",
       "      <th>443928</th>\n",
       "      <td>2021-12-15 10:40:00+00:00</td>\n",
       "      <td>170</td>\n",
       "      <td>150.836</td>\n",
       "      <td>150.899</td>\n",
       "      <td>150.822</td>\n",
       "      <td>150.855</td>\n",
       "      <td>150.824</td>\n",
       "      <td>150.886</td>\n",
       "      <td>150.808</td>\n",
       "      <td>150.843</td>\n",
       "      <td>150.848</td>\n",
       "      <td>150.912</td>\n",
       "      <td>150.836</td>\n",
       "      <td>150.867</td>\n",
       "    </tr>\n",
       "    <tr>\n",
       "      <th>443929</th>\n",
       "      <td>2021-12-15 10:45:00+00:00</td>\n",
       "      <td>148</td>\n",
       "      <td>150.852</td>\n",
       "      <td>150.896</td>\n",
       "      <td>150.824</td>\n",
       "      <td>150.890</td>\n",
       "      <td>150.840</td>\n",
       "      <td>150.884</td>\n",
       "      <td>150.813</td>\n",
       "      <td>150.877</td>\n",
       "      <td>150.865</td>\n",
       "      <td>150.908</td>\n",
       "      <td>150.836</td>\n",
       "      <td>150.903</td>\n",
       "    </tr>\n",
       "    <tr>\n",
       "      <th>443930</th>\n",
       "      <td>2021-12-15 10:50:00+00:00</td>\n",
       "      <td>126</td>\n",
       "      <td>150.892</td>\n",
       "      <td>150.903</td>\n",
       "      <td>150.839</td>\n",
       "      <td>150.883</td>\n",
       "      <td>150.880</td>\n",
       "      <td>150.891</td>\n",
       "      <td>150.827</td>\n",
       "      <td>150.873</td>\n",
       "      <td>150.905</td>\n",
       "      <td>150.915</td>\n",
       "      <td>150.850</td>\n",
       "      <td>150.893</td>\n",
       "    </tr>\n",
       "    <tr>\n",
       "      <th>443931</th>\n",
       "      <td>2021-12-15 10:55:00+00:00</td>\n",
       "      <td>112</td>\n",
       "      <td>150.885</td>\n",
       "      <td>150.948</td>\n",
       "      <td>150.863</td>\n",
       "      <td>150.948</td>\n",
       "      <td>150.873</td>\n",
       "      <td>150.936</td>\n",
       "      <td>150.850</td>\n",
       "      <td>150.935</td>\n",
       "      <td>150.897</td>\n",
       "      <td>150.960</td>\n",
       "      <td>150.876</td>\n",
       "      <td>150.960</td>\n",
       "    </tr>\n",
       "    <tr>\n",
       "      <th>443932</th>\n",
       "      <td>2021-12-15 11:00:00+00:00</td>\n",
       "      <td>151</td>\n",
       "      <td>150.950</td>\n",
       "      <td>150.972</td>\n",
       "      <td>150.938</td>\n",
       "      <td>150.946</td>\n",
       "      <td>150.938</td>\n",
       "      <td>150.958</td>\n",
       "      <td>150.924</td>\n",
       "      <td>150.934</td>\n",
       "      <td>150.961</td>\n",
       "      <td>150.985</td>\n",
       "      <td>150.951</td>\n",
       "      <td>150.959</td>\n",
       "    </tr>\n",
       "  </tbody>\n",
       "</table>\n",
       "</div>"
      ],
      "text/plain": [
       "                            time  volume    mid_o  ...    ask_h    ask_l    ask_c\n",
       "443920 2021-12-15 10:00:00+00:00     218  150.826  ...  150.838  150.771  150.819\n",
       "443921 2021-12-15 10:05:00+00:00     152  150.808  ...  150.851  150.784  150.784\n",
       "443922 2021-12-15 10:10:00+00:00     207  150.774  ...  150.895  150.772  150.885\n",
       "443923 2021-12-15 10:15:00+00:00     143  150.876  ...  150.943  150.876  150.902\n",
       "443924 2021-12-15 10:20:00+00:00     197  150.892  ...  150.911  150.826  150.881\n",
       "443925 2021-12-15 10:25:00+00:00     159  150.866  ...  150.909  150.850  150.881\n",
       "443926 2021-12-15 10:30:00+00:00     106  150.870  ...  150.924  150.859  150.902\n",
       "443927 2021-12-15 10:35:00+00:00      80  150.887  ...  150.905  150.846  150.846\n",
       "443928 2021-12-15 10:40:00+00:00     170  150.836  ...  150.912  150.836  150.867\n",
       "443929 2021-12-15 10:45:00+00:00     148  150.852  ...  150.908  150.836  150.903\n",
       "443930 2021-12-15 10:50:00+00:00     126  150.892  ...  150.915  150.850  150.893\n",
       "443931 2021-12-15 10:55:00+00:00     112  150.885  ...  150.960  150.876  150.960\n",
       "443932 2021-12-15 11:00:00+00:00     151  150.950  ...  150.985  150.951  150.959\n",
       "\n",
       "[13 rows x 14 columns]"
      ]
     },
     "execution_count": 137,
     "metadata": {},
     "output_type": "execute_result"
    }
   ],
   "source": [
    "df_m5_s"
   ]
  },
  {
   "cell_type": "code",
   "execution_count": 138,
   "metadata": {},
   "outputs": [
    {
     "data": {
      "text/html": [
       "<div>\n",
       "<style scoped>\n",
       "    .dataframe tbody tr th:only-of-type {\n",
       "        vertical-align: middle;\n",
       "    }\n",
       "\n",
       "    .dataframe tbody tr th {\n",
       "        vertical-align: top;\n",
       "    }\n",
       "\n",
       "    .dataframe thead th {\n",
       "        text-align: right;\n",
       "    }\n",
       "</style>\n",
       "<table border=\"1\" class=\"dataframe\">\n",
       "  <thead>\n",
       "    <tr style=\"text-align: right;\">\n",
       "      <th></th>\n",
       "      <th>time</th>\n",
       "      <th>volume</th>\n",
       "      <th>mid_o</th>\n",
       "      <th>mid_h</th>\n",
       "      <th>mid_l</th>\n",
       "      <th>mid_c</th>\n",
       "      <th>bid_o</th>\n",
       "      <th>bid_h</th>\n",
       "      <th>bid_l</th>\n",
       "      <th>bid_c</th>\n",
       "      <th>ask_o</th>\n",
       "      <th>ask_h</th>\n",
       "      <th>ask_l</th>\n",
       "      <th>ask_c</th>\n",
       "    </tr>\n",
       "  </thead>\n",
       "  <tbody>\n",
       "    <tr>\n",
       "      <th>37020</th>\n",
       "      <td>2021-12-15 10:00:00+00:00</td>\n",
       "      <td>1818</td>\n",
       "      <td>150.826</td>\n",
       "      <td>150.948</td>\n",
       "      <td>150.758</td>\n",
       "      <td>150.948</td>\n",
       "      <td>150.813</td>\n",
       "      <td>150.936</td>\n",
       "      <td>150.745</td>\n",
       "      <td>150.935</td>\n",
       "      <td>150.838</td>\n",
       "      <td>150.960</td>\n",
       "      <td>150.771</td>\n",
       "      <td>150.960</td>\n",
       "    </tr>\n",
       "    <tr>\n",
       "      <th>37021</th>\n",
       "      <td>2021-12-15 11:00:00+00:00</td>\n",
       "      <td>1842</td>\n",
       "      <td>150.950</td>\n",
       "      <td>150.974</td>\n",
       "      <td>150.784</td>\n",
       "      <td>150.916</td>\n",
       "      <td>150.938</td>\n",
       "      <td>150.961</td>\n",
       "      <td>150.770</td>\n",
       "      <td>150.904</td>\n",
       "      <td>150.961</td>\n",
       "      <td>150.987</td>\n",
       "      <td>150.796</td>\n",
       "      <td>150.927</td>\n",
       "    </tr>\n",
       "  </tbody>\n",
       "</table>\n",
       "</div>"
      ],
      "text/plain": [
       "                           time  volume    mid_o  ...    ask_h    ask_l    ask_c\n",
       "37020 2021-12-15 10:00:00+00:00    1818  150.826  ...  150.960  150.771  150.960\n",
       "37021 2021-12-15 11:00:00+00:00    1842  150.950  ...  150.987  150.796  150.927\n",
       "\n",
       "[2 rows x 14 columns]"
      ]
     },
     "execution_count": 138,
     "metadata": {},
     "output_type": "execute_result"
    }
   ],
   "source": [
    "df_raw_s #notice how the corresponding m5 candle with the same mid_c is the 10:55, hence if you are checking on the m5 candles for greater granularity check from 10:55 onwards and not 10 onwards"
   ]
  },
  {
   "cell_type": "code",
   "execution_count": 139,
   "metadata": {},
   "outputs": [],
   "source": [
    "df_m5_slim = df_m5[['time', 'mid_h','mid_l']].copy()"
   ]
  },
  {
   "cell_type": "code",
   "execution_count": 140,
   "metadata": {},
   "outputs": [],
   "source": [
    "df_signals = df_slim[df_slim.SIGNAL != NONE].copy()"
   ]
  },
  {
   "cell_type": "code",
   "execution_count": 141,
   "metadata": {},
   "outputs": [],
   "source": [
    "df_signals['m5_start'] = [x + dt.timedelta(hours=1) for x in df_signals.time] #define the m5 candle start as 1 hour later as from what we saw above from when the prices line up"
   ]
  },
  {
   "cell_type": "code",
   "execution_count": 142,
   "metadata": {},
   "outputs": [],
   "source": [
    "df_signals['start_index_h1'] = df_signals.index"
   ]
  },
  {
   "cell_type": "code",
   "execution_count": 143,
   "metadata": {},
   "outputs": [],
   "source": [
    "df_signals.drop(['time', 'mid_o', 'mid_h', 'direction', 'mid_l', 'ask_c', 'bid_c', 'ENGULFING', 'EMA_200', 'RSI_14'], axis=1, inplace=True)"
   ]
  },
  {
   "cell_type": "code",
   "execution_count": 144,
   "metadata": {},
   "outputs": [
    {
     "data": {
      "text/html": [
       "<div>\n",
       "<style scoped>\n",
       "    .dataframe tbody tr th:only-of-type {\n",
       "        vertical-align: middle;\n",
       "    }\n",
       "\n",
       "    .dataframe tbody tr th {\n",
       "        vertical-align: top;\n",
       "    }\n",
       "\n",
       "    .dataframe thead th {\n",
       "        text-align: right;\n",
       "    }\n",
       "</style>\n",
       "<table border=\"1\" class=\"dataframe\">\n",
       "  <thead>\n",
       "    <tr style=\"text-align: right;\">\n",
       "      <th></th>\n",
       "      <th>mid_c</th>\n",
       "      <th>SIGNAL</th>\n",
       "      <th>TP</th>\n",
       "      <th>SL</th>\n",
       "      <th>m5_start</th>\n",
       "      <th>start_index_h1</th>\n",
       "    </tr>\n",
       "  </thead>\n",
       "  <tbody>\n",
       "    <tr>\n",
       "      <th>202</th>\n",
       "      <td>169.624</td>\n",
       "      <td>-1</td>\n",
       "      <td>168.8740</td>\n",
       "      <td>170.124</td>\n",
       "      <td>2016-01-14 09:00:00+00:00</td>\n",
       "      <td>202</td>\n",
       "    </tr>\n",
       "    <tr>\n",
       "      <th>224</th>\n",
       "      <td>169.552</td>\n",
       "      <td>-1</td>\n",
       "      <td>169.2580</td>\n",
       "      <td>169.748</td>\n",
       "      <td>2016-01-15 07:00:00+00:00</td>\n",
       "      <td>224</td>\n",
       "    </tr>\n",
       "    <tr>\n",
       "      <th>228</th>\n",
       "      <td>168.300</td>\n",
       "      <td>-1</td>\n",
       "      <td>167.5845</td>\n",
       "      <td>168.777</td>\n",
       "      <td>2016-01-15 11:00:00+00:00</td>\n",
       "      <td>228</td>\n",
       "    </tr>\n",
       "    <tr>\n",
       "      <th>230</th>\n",
       "      <td>168.248</td>\n",
       "      <td>-1</td>\n",
       "      <td>167.9150</td>\n",
       "      <td>168.470</td>\n",
       "      <td>2016-01-15 13:00:00+00:00</td>\n",
       "      <td>230</td>\n",
       "    </tr>\n",
       "    <tr>\n",
       "      <th>233</th>\n",
       "      <td>167.240</td>\n",
       "      <td>-1</td>\n",
       "      <td>166.3670</td>\n",
       "      <td>167.822</td>\n",
       "      <td>2016-01-15 16:00:00+00:00</td>\n",
       "      <td>233</td>\n",
       "    </tr>\n",
       "  </tbody>\n",
       "</table>\n",
       "</div>"
      ],
      "text/plain": [
       "       mid_c  SIGNAL  ...                  m5_start  start_index_h1\n",
       "202  169.624      -1  ... 2016-01-14 09:00:00+00:00             202\n",
       "224  169.552      -1  ... 2016-01-15 07:00:00+00:00             224\n",
       "228  168.300      -1  ... 2016-01-15 11:00:00+00:00             228\n",
       "230  168.248      -1  ... 2016-01-15 13:00:00+00:00             230\n",
       "233  167.240      -1  ... 2016-01-15 16:00:00+00:00             233\n",
       "\n",
       "[5 rows x 6 columns]"
      ]
     },
     "execution_count": 144,
     "metadata": {},
     "output_type": "execute_result"
    }
   ],
   "source": [
    "df_signals.head()"
   ]
  },
  {
   "cell_type": "code",
   "execution_count": 145,
   "metadata": {},
   "outputs": [],
   "source": [
    "df_signals.rename(columns={\n",
    "    'mid_c' : 'start_price',\n",
    "    'm5_start' : 'time'\n",
    "}, inplace=True)"
   ]
  },
  {
   "cell_type": "code",
   "execution_count": 146,
   "metadata": {},
   "outputs": [
    {
     "data": {
      "text/html": [
       "<div>\n",
       "<style scoped>\n",
       "    .dataframe tbody tr th:only-of-type {\n",
       "        vertical-align: middle;\n",
       "    }\n",
       "\n",
       "    .dataframe tbody tr th {\n",
       "        vertical-align: top;\n",
       "    }\n",
       "\n",
       "    .dataframe thead th {\n",
       "        text-align: right;\n",
       "    }\n",
       "</style>\n",
       "<table border=\"1\" class=\"dataframe\">\n",
       "  <thead>\n",
       "    <tr style=\"text-align: right;\">\n",
       "      <th></th>\n",
       "      <th>time</th>\n",
       "      <th>mid_h</th>\n",
       "      <th>mid_l</th>\n",
       "    </tr>\n",
       "  </thead>\n",
       "  <tbody>\n",
       "    <tr>\n",
       "      <th>0</th>\n",
       "      <td>2016-01-03 22:00:00+00:00</td>\n",
       "      <td>177.178</td>\n",
       "      <td>177.130</td>\n",
       "    </tr>\n",
       "    <tr>\n",
       "      <th>1</th>\n",
       "      <td>2016-01-03 22:05:00+00:00</td>\n",
       "      <td>177.302</td>\n",
       "      <td>177.154</td>\n",
       "    </tr>\n",
       "    <tr>\n",
       "      <th>2</th>\n",
       "      <td>2016-01-03 22:10:00+00:00</td>\n",
       "      <td>177.292</td>\n",
       "      <td>177.186</td>\n",
       "    </tr>\n",
       "    <tr>\n",
       "      <th>3</th>\n",
       "      <td>2016-01-03 22:15:00+00:00</td>\n",
       "      <td>177.274</td>\n",
       "      <td>177.205</td>\n",
       "    </tr>\n",
       "    <tr>\n",
       "      <th>4</th>\n",
       "      <td>2016-01-03 22:20:00+00:00</td>\n",
       "      <td>177.295</td>\n",
       "      <td>177.196</td>\n",
       "    </tr>\n",
       "  </tbody>\n",
       "</table>\n",
       "</div>"
      ],
      "text/plain": [
       "                       time    mid_h    mid_l\n",
       "0 2016-01-03 22:00:00+00:00  177.178  177.130\n",
       "1 2016-01-03 22:05:00+00:00  177.302  177.154\n",
       "2 2016-01-03 22:10:00+00:00  177.292  177.186\n",
       "3 2016-01-03 22:15:00+00:00  177.274  177.205\n",
       "4 2016-01-03 22:20:00+00:00  177.295  177.196"
      ]
     },
     "execution_count": 146,
     "metadata": {},
     "output_type": "execute_result"
    }
   ],
   "source": [
    "df_m5_slim.head()"
   ]
  },
  {
   "cell_type": "code",
   "execution_count": 147,
   "metadata": {},
   "outputs": [],
   "source": [
    "merged = pd.merge(left=df_m5_slim, right=df_signals, on='time', how='left') \n",
    "merged.fillna(0,inplace=True) # makes all of the NAs into 0"
   ]
  },
  {
   "cell_type": "code",
   "execution_count": 148,
   "metadata": {},
   "outputs": [],
   "source": [
    "merged[merged.SIGNAL.isna()==False].head()#gives us the first 5 rows where Signal isnt equal to false\n",
    "merged.SIGNAL = merged.SIGNAL.astype(int)\n",
    "merged.start_index_h1 = merged.start_index_h1.astype(int)"
   ]
  },
  {
   "cell_type": "code",
   "execution_count": 149,
   "metadata": {},
   "outputs": [
    {
     "data": {
      "text/html": [
       "<div>\n",
       "<style scoped>\n",
       "    .dataframe tbody tr th:only-of-type {\n",
       "        vertical-align: middle;\n",
       "    }\n",
       "\n",
       "    .dataframe tbody tr th {\n",
       "        vertical-align: top;\n",
       "    }\n",
       "\n",
       "    .dataframe thead th {\n",
       "        text-align: right;\n",
       "    }\n",
       "</style>\n",
       "<table border=\"1\" class=\"dataframe\">\n",
       "  <thead>\n",
       "    <tr style=\"text-align: right;\">\n",
       "      <th></th>\n",
       "      <th>time</th>\n",
       "      <th>mid_h</th>\n",
       "      <th>mid_l</th>\n",
       "      <th>start_price</th>\n",
       "      <th>SIGNAL</th>\n",
       "      <th>TP</th>\n",
       "      <th>SL</th>\n",
       "      <th>start_index_h1</th>\n",
       "    </tr>\n",
       "  </thead>\n",
       "  <tbody>\n",
       "    <tr>\n",
       "      <th>0</th>\n",
       "      <td>2016-01-03 22:00:00+00:00</td>\n",
       "      <td>177.178</td>\n",
       "      <td>177.130</td>\n",
       "      <td>0.0</td>\n",
       "      <td>0</td>\n",
       "      <td>0.0</td>\n",
       "      <td>0.0</td>\n",
       "      <td>0</td>\n",
       "    </tr>\n",
       "    <tr>\n",
       "      <th>1</th>\n",
       "      <td>2016-01-03 22:05:00+00:00</td>\n",
       "      <td>177.302</td>\n",
       "      <td>177.154</td>\n",
       "      <td>0.0</td>\n",
       "      <td>0</td>\n",
       "      <td>0.0</td>\n",
       "      <td>0.0</td>\n",
       "      <td>0</td>\n",
       "    </tr>\n",
       "    <tr>\n",
       "      <th>2</th>\n",
       "      <td>2016-01-03 22:10:00+00:00</td>\n",
       "      <td>177.292</td>\n",
       "      <td>177.186</td>\n",
       "      <td>0.0</td>\n",
       "      <td>0</td>\n",
       "      <td>0.0</td>\n",
       "      <td>0.0</td>\n",
       "      <td>0</td>\n",
       "    </tr>\n",
       "    <tr>\n",
       "      <th>3</th>\n",
       "      <td>2016-01-03 22:15:00+00:00</td>\n",
       "      <td>177.274</td>\n",
       "      <td>177.205</td>\n",
       "      <td>0.0</td>\n",
       "      <td>0</td>\n",
       "      <td>0.0</td>\n",
       "      <td>0.0</td>\n",
       "      <td>0</td>\n",
       "    </tr>\n",
       "    <tr>\n",
       "      <th>4</th>\n",
       "      <td>2016-01-03 22:20:00+00:00</td>\n",
       "      <td>177.295</td>\n",
       "      <td>177.196</td>\n",
       "      <td>0.0</td>\n",
       "      <td>0</td>\n",
       "      <td>0.0</td>\n",
       "      <td>0.0</td>\n",
       "      <td>0</td>\n",
       "    </tr>\n",
       "  </tbody>\n",
       "</table>\n",
       "</div>"
      ],
      "text/plain": [
       "                       time    mid_h    mid_l  ...   TP   SL  start_index_h1\n",
       "0 2016-01-03 22:00:00+00:00  177.178  177.130  ...  0.0  0.0               0\n",
       "1 2016-01-03 22:05:00+00:00  177.302  177.154  ...  0.0  0.0               0\n",
       "2 2016-01-03 22:10:00+00:00  177.292  177.186  ...  0.0  0.0               0\n",
       "3 2016-01-03 22:15:00+00:00  177.274  177.205  ...  0.0  0.0               0\n",
       "4 2016-01-03 22:20:00+00:00  177.295  177.196  ...  0.0  0.0               0\n",
       "\n",
       "[5 rows x 8 columns]"
      ]
     },
     "execution_count": 149,
     "metadata": {},
     "output_type": "execute_result"
    }
   ],
   "source": [
    "merged.head()"
   ]
  },
  {
   "cell_type": "code",
   "execution_count": 154,
   "metadata": {},
   "outputs": [],
   "source": [
    "class TradeM5:\n",
    "\n",
    "    def __init__(self,row):\n",
    "        self.running = True\n",
    "        self.start_index_m5 = row.name\n",
    "        self.start_index_h1 = row.start_index_h1\n",
    "        self.start_price = row.start_price\n",
    "        self.trigger_price = row.start_price\n",
    "        self.SIGNAL = row.SIGNAL\n",
    "        self.TP = row.TP\n",
    "        self.SL = row.SL\n",
    "        self.result = 0.0\n",
    "        self.end_time = row.time\n",
    "        self.start_time = row.time\n",
    "        self.duration = 1\n",
    "\n",
    "    def close_trade(self,row, result, trigger_price):\n",
    "        self.running = False\n",
    "        self.result = result\n",
    "        self.end_time = row.time\n",
    "        self.trigger_price = trigger_price\n",
    "\n",
    "    def update(self,row):\n",
    "        self.duration += 1\n",
    "        if self.SIGNAL == BUY:\n",
    "            if row.mid_h >= self.TP:  #as this is first we are being optimistic for all the cases where the candle that triggers the take profit also covers the stop loss, due to lack of granularity\n",
    "                self.close_trade(row, PROFIT_FACTOR, row.mid_h)\n",
    "            elif row.mid_l <= self.SL:\n",
    "                self.close_trade(row, LOSS_FACTOR, row.mid_l)\n",
    "\n",
    "        if self.SIGNAL == SELL:\n",
    "            if row.mid_l <= self.TP:  \n",
    "                self.close_trade(row, PROFIT_FACTOR, row.mid_l)\n",
    "            elif row.mid_h >= self.SL:\n",
    "                self.close_trade(row, LOSS_FACTOR, row.mid_h)"
   ]
  },
  {
   "cell_type": "code",
   "execution_count": 155,
   "metadata": {},
   "outputs": [],
   "source": [
    "open_trades_m5 = []\n",
    "closed_trades_m5 = []\n",
    "\n",
    "for index, row in merged.iterrows(): #iterrows changes the format of the dataframe into a table where you can get the values by doing row.mid_h where row corresponds to the row in the original dataframe you want, note it has lower performance as it makes a series for each row\n",
    "    \n",
    "    if row.SIGNAL != NONE: #check if current row is a trade\n",
    "        open_trades_m5.append(TradeM5(row))\n",
    "        \n",
    "    for ot in open_trades_m5: #itterate through each still open trade and check that if the current candle we are on leads to a stop loss or take profit, if so the trade is then closed\n",
    "        ot.update(row)\n",
    "        if ot.running == False:\n",
    "            closed_trades_m5.append(ot)\n",
    "    open_trades_m5 = [x for x in open_trades_m5 if x.running == True] \n",
    "\n",
    "    if row.SIGNAL != NONE: #check if current row is a trade\n",
    "        open_trades_m5.append(TradeM5(row))"
   ]
  },
  {
   "cell_type": "code",
   "execution_count": 156,
   "metadata": {},
   "outputs": [],
   "source": [
    "df_res_m5 = pd.DataFrame.from_dict([vars(x)for x in closed_trades_m5])"
   ]
  },
  {
   "cell_type": "code",
   "execution_count": 157,
   "metadata": {},
   "outputs": [
    {
     "data": {
      "text/plain": [
       "-144.0"
      ]
     },
     "execution_count": 157,
     "metadata": {},
     "output_type": "execute_result"
    }
   ],
   "source": [
    "df_res_m5.result.sum()"
   ]
  }
 ],
 "metadata": {
  "kernelspec": {
   "display_name": "trading",
   "language": "python",
   "name": "python3"
  },
  "language_info": {
   "codemirror_mode": {
    "name": "ipython",
    "version": 3
   },
   "file_extension": ".py",
   "mimetype": "text/x-python",
   "name": "python",
   "nbconvert_exporter": "python",
   "pygments_lexer": "ipython3",
   "version": "3.11.5"
  },
  "orig_nbformat": 4
 },
 "nbformat": 4,
 "nbformat_minor": 2
}
